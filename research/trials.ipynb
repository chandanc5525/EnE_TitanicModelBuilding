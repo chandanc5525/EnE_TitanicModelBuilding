{
 "cells": [
  {
   "cell_type": "code",
   "execution_count": null,
   "id": "614c25ef",
   "metadata": {},
   "outputs": [],
   "source": [
    "# Import Data Manipulation Libaries\n",
    "import pandas as pd\n",
    "import numpy as np\n",
    "\n",
    "\n"
   ]
  }
 ],
 "metadata": {
  "kernelspec": {
   "display_name": "venv",
   "language": "python",
   "name": "python3"
  },
  "language_info": {
   "name": "python",
   "version": "3.8.20"
  }
 },
 "nbformat": 4,
 "nbformat_minor": 5
}
